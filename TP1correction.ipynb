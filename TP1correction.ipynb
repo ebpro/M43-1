{
 "cells": [
  {
   "cell_type": "code",
   "execution_count": 1,
   "metadata": {},
   "outputs": [
    {
     "data": {
      "application/javascript": [
       "IPython.notebook.set_autosave_interval(300000)"
      ]
     },
     "metadata": {},
     "output_type": "display_data"
    },
    {
     "name": "stdout",
     "output_type": "stream",
     "text": [
      "Autosaving every 300 seconds\n"
     ]
    }
   ],
   "source": [
    "from IPython.display import display, Latex\n",
    "from IPython.core.display import HTML\n",
    "%reset -f\n",
    "%matplotlib inline\n",
    "%autosave 300\n",
    "from matplotlib.pylab import *"
   ]
  },
  {
   "cell_type": "markdown",
   "metadata": {},
   "source": [
    "# Manipulation de base sur les tableaux\n",
    "En important la librairie matplotlib, la librairie numpy est également chargée. Elle permet la manipulation de tableaux et contient des opérations empruntées aux opérations matricielles mathématiques.\n",
    "\n",
    "## Définition, modification, opérations\n",
    "\n",
    "On définit des tableaux comme suit, soit par remplissage de tous les coefficients, soit par des tableaux de 1 (ones) ou 0 (zeros)."
   ]
  },
  {
   "cell_type": "code",
   "execution_count": 2,
   "metadata": {},
   "outputs": [
    {
     "name": "stdout",
     "output_type": "stream",
     "text": [
      "a= [[1 2]\n",
      " [3 4]]\n",
      "b= [[5. 5.]\n",
      " [5. 5.]]\n",
      "a+b= [[6. 7.]\n",
      " [8. 9.]]\n"
     ]
    }
   ],
   "source": [
    "a=array([[1,2],[3,4]])\n",
    "b=5*ones((2,2))\n",
    "print('a=',a)\n",
    "print('b=',b)\n",
    "print('a+b=',a+b)"
   ]
  },
  {
   "cell_type": "markdown",
   "metadata": {},
   "source": [
    "On profite du tableau \"zeros\" pour intialiser un tableau à la taille souhaitée et modifier les coefficients en position ligne colonne de notre choix. Attention, les indices démarrent à 0 et non 1."
   ]
  },
  {
   "cell_type": "code",
   "execution_count": 3,
   "metadata": {},
   "outputs": [
    {
     "name": "stdout",
     "output_type": "stream",
     "text": [
      "[[0. 0. 0.]\n",
      " [0. 0. 0.]\n",
      " [0. 2. 0.]]\n"
     ]
    }
   ],
   "source": [
    "c=zeros((3,3))\n",
    "c[2,1]=2\n",
    "print(c)"
   ]
  },
  {
   "cell_type": "markdown",
   "metadata": {},
   "source": [
    "On peut également affecter un sous-tableau d'un tableau."
   ]
  },
  {
   "cell_type": "code",
   "execution_count": 4,
   "metadata": {},
   "outputs": [
    {
     "name": "stdout",
     "output_type": "stream",
     "text": [
      "[[1. 2. 0.]\n",
      " [3. 4. 0.]\n",
      " [0. 0. 0.]]\n"
     ]
    }
   ],
   "source": [
    "d=zeros((3,3))\n",
    "d[0:2,0:2]=a\n",
    "print(d)"
   ]
  },
  {
   "cell_type": "markdown",
   "metadata": {},
   "source": [
    "On peut effectuer des produit composantes par composantes:"
   ]
  },
  {
   "cell_type": "code",
   "execution_count": 5,
   "metadata": {},
   "outputs": [
    {
     "name": "stdout",
     "output_type": "stream",
     "text": [
      "[[ 1.  4.  0.]\n",
      " [ 9. 16.  0.]\n",
      " [ 0.  0.  0.]]\n"
     ]
    }
   ],
   "source": [
    "print(d*d)"
   ]
  },
  {
   "cell_type": "markdown",
   "metadata": {},
   "source": [
    "La commande \"arange\" permet de créer sous forme de vecteur numpy l'équivalent de l'itérateur \"range\". Il est possible de modifier la forme du tableau pour le transformer (reshape) en un tableau du même nombre d'éléments mais avec un nombre de ligne et colonne différent. Notez bien l'ordre dans lequel sont rangés les éléments."
   ]
  },
  {
   "cell_type": "code",
   "execution_count": 6,
   "metadata": {},
   "outputs": [
    {
     "name": "stdout",
     "output_type": "stream",
     "text": [
      "[ 3  5  7  9 11 13 15 17 19]\n",
      "matrie 3x3 : \n",
      "[[ 3  5  7]\n",
      " [ 9 11 13]\n",
      " [15 17 19]]\n",
      "mis en une unique colonne : \n",
      "[[ 3]\n",
      " [ 5]\n",
      " [ 7]\n",
      " [ 9]\n",
      " [11]\n",
      " [13]\n",
      " [15]\n",
      " [17]\n",
      " [19]]\n",
      "mis en une unique ligne : \n",
      "[[ 3  5  7  9 11 13 15 17 19]]\n",
      "reshape après transposition, l'ordre est bousculé :\n",
      "[[ 3  9 15  5 11 17  7 13 19]]\n"
     ]
    }
   ],
   "source": [
    "vec=arange(3,21,2)\n",
    "print(vec)\n",
    "mat3x3=vec.reshape(3,3)\n",
    "print(\"matrie 3x3 : \")\n",
    "print(mat3x3)\n",
    "print(\"mis en une unique colonne : \")\n",
    "print(mat3x3.reshape(9,1))\n",
    "print(\"mis en une unique ligne : \")\n",
    "print(mat3x3.reshape(1,9))\n",
    "print(\"reshape après transposition, l'ordre est bousculé :\")\n",
    "print(mat3x3.T.reshape(1,9))"
   ]
  },
  {
   "cell_type": "markdown",
   "metadata": {},
   "source": [
    "On peut utiliser la commande \"diag\" afin de positionner en diagonale, un vecteur ou un sous-tableau dans un tableau dont on précise la taille. Les autres coefficients non précisés etant nuls. On choisit de combien on décale la diagonale par rapport à la diagonale principale."
   ]
  },
  {
   "cell_type": "code",
   "execution_count": 7,
   "metadata": {},
   "outputs": [
    {
     "name": "stdout",
     "output_type": "stream",
     "text": [
      "[[0. 1. 0. 0. 0. 0. 0. 0. 0. 0.]\n",
      " [1. 0. 2. 0. 0. 0. 0. 0. 0. 0.]\n",
      " [0. 1. 0. 3. 0. 0. 0. 0. 0. 0.]\n",
      " [0. 0. 1. 0. 4. 0. 0. 0. 0. 0.]\n",
      " [0. 0. 0. 1. 0. 5. 0. 0. 0. 0.]\n",
      " [0. 0. 0. 0. 1. 0. 6. 0. 0. 0.]\n",
      " [0. 0. 0. 0. 0. 1. 0. 7. 0. 0.]\n",
      " [0. 0. 0. 0. 0. 0. 1. 0. 8. 0.]\n",
      " [0. 0. 0. 0. 0. 0. 0. 1. 0. 9.]\n",
      " [0. 0. 0. 0. 0. 0. 0. 0. 1. 0.]]\n"
     ]
    }
   ],
   "source": [
    "vec=arange(1,10)\n",
    "M=diag(vec,1)+diag(ones(9),-1)\n",
    "print(M)"
   ]
  },
  {
   "cell_type": "markdown",
   "metadata": {},
   "source": [
    "## Produit matriciel\n",
    "La multiplication matricielle utilise la fonction dot:"
   ]
  },
  {
   "cell_type": "code",
   "execution_count": 8,
   "metadata": {},
   "outputs": [
    {
     "name": "stdout",
     "output_type": "stream",
     "text": [
      "[[ 7. 10.  0.]\n",
      " [15. 22.  0.]\n",
      " [ 0.  0.  0.]]\n",
      "une variante d'écriture pour le même résultat:\n",
      "[[ 7. 10.  0.]\n",
      " [15. 22.  0.]\n",
      " [ 0.  0.  0.]]\n"
     ]
    }
   ],
   "source": [
    "print(dot(d,d))\n",
    "print(\"une variante d'écriture pour le même résultat:\")\n",
    "print(d.dot(d))\n"
   ]
  },
  {
   "cell_type": "markdown",
   "metadata": {},
   "source": [
    "On peut également utiliser l'opérateur \"@\" qui signifie produit matriciel entre deux tableaux de taille compatible:"
   ]
  },
  {
   "cell_type": "code",
   "execution_count": 9,
   "metadata": {},
   "outputs": [
    {
     "name": "stdout",
     "output_type": "stream",
     "text": [
      "[[ 7. 10.  0.]\n",
      " [15. 22.  0.]\n",
      " [ 0.  0.  0.]]\n"
     ]
    }
   ],
   "source": [
    "print(d@d)"
   ]
  },
  {
   "cell_type": "markdown",
   "metadata": {},
   "source": [
    "Le produit scalaire de deux vecteurs n'est autre que le produit matriciel à une transposition près (produit d'un vecteur ligne par un vecteur colonne). \n",
    "\n",
    "Le produit matrice vecteur n'est rien d'autre qu'un produit matriciel. Exemples:"
   ]
  },
  {
   "cell_type": "code",
   "execution_count": 10,
   "metadata": {},
   "outputs": [
    {
     "name": "stdout",
     "output_type": "stream",
     "text": [
      "vecteur colonne ou tableau 3 lignes 1 colonne\n",
      "[[1]\n",
      " [2]\n",
      " [3]]\n",
      "son transposé: [[1 2 3]]\n",
      "2 produits possibles:\n",
      "[[1 2 3]\n",
      " [2 4 6]\n",
      " [3 6 9]]\n",
      "le deuxième\n",
      "[[14]]\n",
      "produit matrice vecteur:\n",
      "[[ 5.]\n",
      " [11.]\n",
      " [ 0.]]\n"
     ]
    }
   ],
   "source": [
    "vec=array([[1],[2],[3]])\n",
    "print(\"vecteur colonne ou tableau 3 lignes 1 colonne\")\n",
    "print(vec)\n",
    "vectrans=vec.T\n",
    "print(\"son transposé:\",vectrans)\n",
    "print(\"2 produits possibles:\")\n",
    "print(vec@vectrans)\n",
    "print(\"le deuxième\")\n",
    "print(vectrans@vec)\n",
    "print(\"produit matrice vecteur:\")\n",
    "print(d@vec)\n",
    "\n"
   ]
  },
  {
   "cell_type": "markdown",
   "metadata": {},
   "source": [
    "Attention aux tableaux qui ne sont qu'une conversion d'une liste de nombres et non une liste de liste de nombres. Dans ce cas, la notion de ligne ou colonne est ambigue. La transposée n'agit pas, le produit dot ou @ a un sens de produit scalaire."
   ]
  },
  {
   "cell_type": "code",
   "execution_count": 11,
   "metadata": {},
   "outputs": [
    {
     "name": "stdout",
     "output_type": "stream",
     "text": [
      "14 14\n",
      "a= [1 2 3]\n",
      "a.T= [1 2 3]\n"
     ]
    }
   ],
   "source": [
    "a=array([1,2,3])\n",
    "print(a.dot(a),a@a)\n",
    "print(\"a=\",a)\n",
    "print(\"a.T=\",a.T)"
   ]
  },
  {
   "cell_type": "markdown",
   "metadata": {},
   "source": [
    "## Exercices\n",
    "Coder et afficher les calculs suivants:\n",
    "$$\n",
    "\\left (\\matrix{1&2&1\\\\\n",
    "2&1&1\\\\\n",
    "1&1&1}\\right)\\left (\\matrix{1\\\\\n",
    "2\\\\\n",
    "1}\\right)\n",
    "$$\n",
    "$$\n",
    "\\left (\\matrix{\n",
    "1&0&0&0&0&0&0\\\\\n",
    "0&1&0&0&0&0&0\\\\\n",
    "0&0&2&2&1&0&0\\\\\n",
    "0&0&2&2&1&0&0\\\\\n",
    "0&0&1&1&2&0&0\\\\\n",
    "0&0&0&0&0&1&0\\\\\n",
    "0&0&0&0&0&0&1\\\\\n",
    "}\\right)+\n",
    "\\left (\\matrix{\n",
    "1&0&0&0&0&0&0\\\\\n",
    "0&1&0&0&0&0&0\\\\\n",
    "0&0&1&0&0&0&0\\\\\n",
    "0&0&0&1&0&0&0\\\\\n",
    "0&0&0&0&1&0&0\\\\\n",
    "0&0&0&0&0&1&0\\\\\n",
    "0&0&0&0&0&0&1\\\\\n",
    "}\\right)+\n",
    "\\left (\\matrix{\n",
    "0&0&0&0&0&0&1\\\\\n",
    "0&0&0&0&0&1&0\\\\\n",
    "0&0&0&0&1&0&0\\\\\n",
    "0&0&0&1&0&0&0\\\\\n",
    "0&0&1&0&0&0&0\\\\\n",
    "0&1&0&0&0&0&0\\\\\n",
    "1&0&0&0&0&0&0\\\\\n",
    "}\\right)\n",
    "$$"
   ]
  },
  {
   "cell_type": "markdown",
   "metadata": {},
   "source": [
    "Commençons par le produit des deux premières matrices."
   ]
  },
  {
   "cell_type": "code",
   "execution_count": 12,
   "metadata": {},
   "outputs": [
    {
     "name": "stdout",
     "output_type": "stream",
     "text": [
      "le produit des deux matrices est de :\n",
      "[[6]\n",
      " [5]\n",
      " [4]]\n"
     ]
    }
   ],
   "source": [
    "a=array([[1,2,1],[2,1,1],[1,1,1]])\n",
    "b=array([[1],[2],[1]])\n",
    "print(\"le produit des deux matrices est :\")\n",
    "print(dot(a,b))"
   ]
  },
  {
   "cell_type": "markdown",
   "metadata": {},
   "source": [
    "Poursuivons avec l'addition des trois matrices ci-dessus. Commençons par définir les trois matrices intervenant dans la somme, notée $M1$, $M2$, $M3$ dans l'ordre d'apparition."
   ]
  },
  {
   "cell_type": "code",
   "execution_count": 19,
   "metadata": {},
   "outputs": [
    {
     "name": "stdout",
     "output_type": "stream",
     "text": [
      "Somme =\n",
      "[[2. 0. 0. 0. 0. 0. 1.]\n",
      " [0. 2. 0. 0. 0. 1. 0.]\n",
      " [0. 0. 4. 4. 3. 0. 0.]\n",
      " [0. 0. 4. 5. 2. 0. 0.]\n",
      " [0. 0. 3. 2. 4. 0. 0.]\n",
      " [0. 1. 0. 0. 0. 2. 0.]\n",
      " [1. 0. 0. 0. 0. 0. 2.]]\n"
     ]
    }
   ],
   "source": [
    "M1=diag(ones(7))\n",
    "M2=M1\n",
    "M1[2:5,2:5]=M1[2:5,2:5]+a\n",
    "M3=zeros((7,7))\n",
    "for i in range(7):\n",
    "    M3[i,6-i]=1\n",
    "print(\"Somme =\")\n",
    "print(M1+M2+M3)"
   ]
  },
  {
   "cell_type": "markdown",
   "metadata": {},
   "source": [
    "Construire et afficher la matrice de taille 9x9 qui ne contient que des zéros sauf des $-4$ sur la deuxième sous-diagonale."
   ]
  },
  {
   "cell_type": "code",
   "execution_count": 59,
   "metadata": {},
   "outputs": [
    {
     "name": "stdout",
     "output_type": "stream",
     "text": [
      "[[ 0.  0.  0.  0.  0.  0.  0.  0.  0.]\n",
      " [ 0.  0.  0.  0.  0.  0.  0.  0.  0.]\n",
      " [-4.  0.  0.  0.  0.  0.  0.  0.  0.]\n",
      " [ 0. -4.  0.  0.  0.  0.  0.  0.  0.]\n",
      " [ 0.  0. -4.  0.  0.  0.  0.  0.  0.]\n",
      " [ 0.  0.  0. -4.  0.  0.  0.  0.  0.]\n",
      " [ 0.  0.  0.  0. -4.  0.  0.  0.  0.]\n",
      " [ 0.  0.  0.  0.  0. -4.  0.  0.  0.]\n",
      " [ 0.  0.  0.  0.  0.  0. -4.  0.  0.]]\n"
     ]
    }
   ],
   "source": [
    "vec=-4*ones(7)\n",
    "M=diag(vec,-2)\n",
    "print(M)"
   ]
  },
  {
   "cell_type": "markdown",
   "metadata": {},
   "source": [
    "La fonction diag a permis de placer le vecteur \"vec\" sur la deuxième sous-diagonale de la matrice. On remarque que \"vec\" est de longueur 7 quand la matrice est de taille 9x9.on a utiliser la fonction \"ones\" pour créer le vecteur constant composé de 1, multiplié par les nombres souhaités."
   ]
  },
  {
   "cell_type": "markdown",
   "metadata": {},
   "source": [
    "Calculer la somme des carrés des 60 premiers entiers non nuls à l'aide d'un vecteur et de la commande \"dot\". Calculer la somme de ces entiers toujours à l'aide de vecteurs et de \"dot\" ou \"@\"."
   ]
  },
  {
   "cell_type": "code",
   "execution_count": 60,
   "metadata": {},
   "outputs": [
    {
     "name": "stdout",
     "output_type": "stream",
     "text": [
      "La somme des carrés des 60 premiers entiers non nuls est égale à : 73810\n",
      "La somme des 60 premiers entiers non nuls est égale à : 1830.0\n"
     ]
    }
   ],
   "source": [
    "vec=arange(1,61,1)\n",
    "a=dot(vec,vec)# ou a=vec@vec\n",
    "print(\"La somme des carrés des 60 premiers entiers non nuls est égale à :\",a)\n",
    "\n",
    "b=ones(60)\n",
    "c=dot(vec,b)\n",
    "print(\"La somme des 60 premiers entiers non nuls est égale à :\",c)"
   ]
  },
  {
   "cell_type": "markdown",
   "metadata": {},
   "source": [
    "DOT permet de faire le produit matriciel lorsqu'il s'agît de matrice (tableaux à 2 indices). Néanmoins, lorsqu'il s'agît de vecteurs (tableaux à 1 indice), il calcule le produit scalaire. "
   ]
  },
  {
   "cell_type": "markdown",
   "metadata": {},
   "source": [
    "## Factorisation PLU\n",
    "On peut factoriser, sous quelques hypothèses, une matrice  $A$ sous la forme $A=PLU$ où $L$ (lower) est une matrice triangulaire inférieure avec des $1$ sur la diagonale, $U$ (upper) une matrice triangulaire supérieure et $P$ une matrice de permutation. Cette factorisation correspond aux opérations de transformation de la matrice par la méthode de Gauss avec pivot.  Le but étant de résoudre alors un système linéaire dont $A$ est la matrice qu'on supposera alors carrée. L'hypothèse $A$ inversible suffit pour assurer cette factorisation. La méthode de Gauss (sans pivot, $P=Id$) s'applique  dès lors que toutes les sous-matrices de $A$ sont inversibles."
   ]
  },
  {
   "cell_type": "code",
   "execution_count": 25,
   "metadata": {},
   "outputs": [
    {
     "name": "stdout",
     "output_type": "stream",
     "text": [
      "[[0. 1. 0.]\n",
      " [0. 0. 1.]\n",
      " [1. 0. 0.]]\n",
      "\n",
      "[[1.         0.         0.        ]\n",
      " [0.14285714 1.         0.        ]\n",
      " [0.57142857 0.5        1.        ]]\n",
      "\n",
      "[[ 7.          8.         10.        ]\n",
      " [ 0.          0.85714286  1.57142857]\n",
      " [ 0.          0.         -0.5       ]]\n",
      "\n",
      "vérification :\n",
      "[[ 1.  2.  3.]\n",
      " [ 4.  5.  6.]\n",
      " [ 7.  8. 10.]]\n"
     ]
    }
   ],
   "source": [
    "from scipy import linalg\n",
    "#U=triu([[1,2,3],[4,5,6],[7,8,9]])\n",
    "#L=tril([[1,2,3],[4,5,6],[7,8,9]])\n",
    "A=array([[1,2,3],[4,5,6],[7,8,10]])\n",
    "P,L,U=linalg.lu(A)\n",
    "print(P)\n",
    "print()\n",
    "print(L)\n",
    "print()\n",
    "print(U)\n",
    "print()\n",
    "print(\"vérification :\")\n",
    "print(P.dot(L.dot(U)))"
   ]
  },
  {
   "cell_type": "markdown",
   "metadata": {},
   "source": [
    "## Exercice\n",
    "En n'utilisant que la transposition et un algorithme de résolution de système triangulaire (inférieur ou supérieur) que vous coderez avec une seule boucle, résoudre le système linéaire $Ax=b$ à partir de $P$, $L$, $U$ de la factorisation $A=PLU$. Pour vérifier votre calcul, cet outil est déjà codé dans scipy avec la commande suivante:"
   ]
  },
  {
   "cell_type": "code",
   "execution_count": 14,
   "metadata": {},
   "outputs": [
    {
     "name": "stdout",
     "output_type": "stream",
     "text": [
      "x est le vecteur : \n",
      "[[-1.00000000e+00]\n",
      " [ 1.00000000e+00]\n",
      " [ 3.33066907e-16]]\n",
      "on vérifie Ax=b : \n",
      "[[1.]\n",
      " [1.]\n",
      " [1.]]\n"
     ]
    }
   ],
   "source": [
    "#Forme compactee de la factorisation PLU\n",
    "lu=linalg.lu_factor(A)\n",
    "#appel de la resolution du système depuis la factorisation lu\n",
    "b=ones((3,1))\n",
    "x=linalg.lu_solve(lu,b)\n",
    "print(\"x est le vecteur : \")\n",
    "print(x)\n",
    "print(\"on vérifie Ax=b : \")\n",
    "print(A@x)\n",
    "\n",
    "# ECRIRE VOTRE PROPRE ALGO QUI TROUVE x depuis P,L,U,b"
   ]
  },
  {
   "cell_type": "code",
   "execution_count": 15,
   "metadata": {},
   "outputs": [
    {
     "name": "stdout",
     "output_type": "stream",
     "text": [
      "[[-1.00000000e+00]\n",
      " [ 1.00000000e+00]\n",
      " [ 3.33066907e-16]]\n"
     ]
    }
   ],
   "source": [
    "#sans savoir ce que scipy choisit comme solveur, \n",
    "#il existe la commande de résolution de systeme linéaire\n",
    "print(linalg.solve(A,b))"
   ]
  },
  {
   "cell_type": "markdown",
   "metadata": {},
   "source": [
    "On cherche à resoudre le système $Ax=b$.\n",
    "\n",
    "\n",
    "Or $A=PLU$, on obtient l'équation $PLUx=b$ ce qui équivaut à $LUx=P^tb=z$ car la matrice de permutation est orthogonale.\n",
    "\n",
    "\n",
    "On pose alors $y=Ux$ ; $y$ satisfait $Ly=z$.\n",
    "\n",
    "\n",
    "Il faudra ensuite résoudre $Ly=z$ puis $Ux=y$\n"
   ]
  },
  {
   "cell_type": "code",
   "execution_count": 56,
   "metadata": {},
   "outputs": [
    {
     "name": "stdout",
     "output_type": "stream",
     "text": [
      "la transposée de P est ;\n",
      "[[1.]\n",
      " [1.]\n",
      " [1.]]\n"
     ]
    }
   ],
   "source": [
    "#Première étape, LUx=z\n",
    "\n",
    "pt=P.T\n",
    "z=pt@b\n",
    "print(\"la transposée de P est ;\")\n",
    "print(z)"
   ]
  },
  {
   "cell_type": "code",
   "execution_count": 38,
   "metadata": {},
   "outputs": [
    {
     "name": "stdout",
     "output_type": "stream",
     "text": [
      "[[ 1.00000000e+00]\n",
      " [ 8.57142857e-01]\n",
      " [-2.22044605e-16]]\n",
      "\n",
      "vérifions si Ly=z :\n",
      "[[1.]\n",
      " [1.]\n",
      " [1.]]\n",
      "l'égalité est vérifiée\n"
     ]
    }
   ],
   "source": [
    "#Deuxième étape, résoudre Ly=z, avec y=Ux\n",
    "n=len(b)\n",
    "y=zeros((n,1))\n",
    "for i in range (n):\n",
    "    y[i]=z[i]-L[i,0:i].dot(y[0:i,0])\n",
    "print(y)\n",
    "print()\n",
    "print(\"vérifions si Ly=z :\")\n",
    "print(L@y)\n",
    "print(\"l'égalité est vérifiée\")"
   ]
  },
  {
   "cell_type": "code",
   "execution_count": 55,
   "metadata": {},
   "outputs": [
    {
     "name": "stdout",
     "output_type": "stream",
     "text": [
      "[[-1.0000000e+00]\n",
      " [ 1.0000000e+00]\n",
      " [ 4.4408921e-16]]\n"
     ]
    }
   ],
   "source": [
    "#troisième étape, résoudre Ux=y\n",
    "n=len(b)\n",
    "x=zeros((n,1))\n",
    "for i in range(n-1,-1,-1):\n",
    "    x[i,0]=(y[i,0]-U[i,i+1:n].dot(x[i+1:n,0]))/U[i,i]\n",
    "print(x)\n"
   ]
  },
  {
   "cell_type": "markdown",
   "metadata": {},
   "source": [
    "Lorsque l'on obtient un résultat à $10^{-16}$, on considère que ça vaut 0. On obtient alors le bon résultat ici."
   ]
  },
  {
   "cell_type": "markdown",
   "metadata": {},
   "source": [
    "## Valeurs propres et vecteurs propres\n",
    "La commande \"eig\" permet de disposer des valeurs propres et des vecteurs propres associés. La commande \"inv\" permet d'inverser la matrice. On ne s'en sert pas pour résoudre un système linéaire, c'est beaucoup trop cher en calcul! \n"
   ]
  },
  {
   "cell_type": "code",
   "execution_count": 17,
   "metadata": {
    "scrolled": true
   },
   "outputs": [
    {
     "data": {
      "text/plain": [
       "(array([16.70749332, -0.90574018,  0.19824686]),\n",
       " array([[-0.22351336, -0.86584578,  0.27829649],\n",
       "        [-0.50394563,  0.0856512 , -0.8318468 ],\n",
       "        [-0.83431444,  0.4929249 ,  0.48018951]]))"
      ]
     },
     "execution_count": 17,
     "metadata": {},
     "output_type": "execute_result"
    }
   ],
   "source": [
    "eig(A)"
   ]
  },
  {
   "cell_type": "code",
   "execution_count": 18,
   "metadata": {
    "scrolled": true
   },
   "outputs": [
    {
     "data": {
      "text/plain": [
       "array([[-0.66666667, -1.33333333,  1.        ],\n",
       "       [-0.66666667,  3.66666667, -2.        ],\n",
       "       [ 1.        , -2.        ,  1.        ]])"
      ]
     },
     "execution_count": 18,
     "metadata": {},
     "output_type": "execute_result"
    }
   ],
   "source": [
    "inv(A)"
   ]
  },
  {
   "cell_type": "markdown",
   "metadata": {},
   "source": [
    "## Exercice\n",
    "\n",
    "Calculer les valeurs propres de la matrice $A$ de taille $(20,20)$ constituée de $3$ sur la diagonale principale, de $-1$ sur la diagonale supérieure et inférieure.\n"
   ]
  },
  {
   "cell_type": "code",
   "execution_count": 61,
   "metadata": {},
   "outputs": [
    {
     "data": {
      "text/plain": [
       "(array([1.02233835, 1.08885439, 1.19806226, 1.34752245, 1.53389626,\n",
       "        1.7530204 , 2.        , 2.26931795, 2.55495813, 2.85053981,\n",
       "        3.14946019, 3.44504187, 3.73068205, 4.97766165, 4.91114561,\n",
       "        4.80193774, 4.65247755, 4.46610374, 4.2469796 , 4.        ]),\n",
       " array([[-4.59954419e-02,  9.09634217e-02,  1.33899429e-01,\n",
       "         -1.73844344e-01, -2.09905864e-01,  2.41278434e-01,\n",
       "          2.67261242e-01,  2.87273876e-01, -3.00869286e-01,\n",
       "         -3.07743773e-01, -3.07743773e-01, -3.00869286e-01,\n",
       "         -2.87273876e-01,  4.59954419e-02,  9.09634217e-02,\n",
       "         -1.33899429e-01, -1.73844344e-01, -2.09905864e-01,\n",
       "         -2.41278434e-01, -2.67261242e-01],\n",
       "        [-9.09634217e-02,  1.73844344e-01,  2.41278434e-01,\n",
       "         -2.87273876e-01, -3.07743773e-01,  3.00869286e-01,\n",
       "          2.67261242e-01,  2.09905864e-01, -1.33899429e-01,\n",
       "         -4.59954419e-02,  4.59954419e-02,  1.33899429e-01,\n",
       "          2.09905864e-01, -9.09634217e-02, -1.73844344e-01,\n",
       "          2.41278434e-01,  2.87273876e-01,  3.07743773e-01,\n",
       "          3.00869286e-01,  2.67261242e-01],\n",
       "        [-1.33899429e-01,  2.41278434e-01,  3.00869286e-01,\n",
       "         -3.00869286e-01, -2.41278434e-01,  1.33899429e-01,\n",
       "          1.31868042e-15, -1.33899429e-01,  2.41278434e-01,\n",
       "          3.00869286e-01,  3.00869286e-01,  2.41278434e-01,\n",
       "          1.33899429e-01,  1.33899429e-01,  2.41278434e-01,\n",
       "         -3.00869286e-01, -3.00869286e-01, -2.41278434e-01,\n",
       "         -1.33899429e-01, -2.18396422e-15],\n",
       "        [-1.73844344e-01,  2.87273876e-01,  3.00869286e-01,\n",
       "         -2.09905864e-01, -4.59954419e-02, -1.33899429e-01,\n",
       "         -2.67261242e-01, -3.07743773e-01,  2.41278434e-01,\n",
       "          9.09634217e-02, -9.09634217e-02, -2.41278434e-01,\n",
       "         -3.07743773e-01, -1.73844344e-01, -2.87273876e-01,\n",
       "          3.00869286e-01,  2.09905864e-01,  4.59954419e-02,\n",
       "         -1.33899429e-01, -2.67261242e-01],\n",
       "        [-2.09905864e-01,  3.07743773e-01,  2.41278434e-01,\n",
       "         -4.59954419e-02,  1.73844344e-01, -3.00869286e-01,\n",
       "         -2.67261242e-01, -9.09634217e-02, -1.33899429e-01,\n",
       "         -2.87273876e-01, -2.87273876e-01, -1.33899429e-01,\n",
       "          9.09634217e-02,  2.09905864e-01,  3.07743773e-01,\n",
       "         -2.41278434e-01, -4.59954419e-02,  1.73844344e-01,\n",
       "          3.00869286e-01,  2.67261242e-01],\n",
       "        [-2.41278434e-01,  3.00869286e-01,  1.33899429e-01,\n",
       "          1.33899429e-01,  3.00869286e-01, -2.41278434e-01,\n",
       "         -1.81750460e-15,  2.41278434e-01, -3.00869286e-01,\n",
       "         -1.33899429e-01,  1.33899429e-01,  3.00869286e-01,\n",
       "          2.41278434e-01, -2.41278434e-01, -3.00869286e-01,\n",
       "          1.33899429e-01, -1.33899429e-01, -3.00869286e-01,\n",
       "         -2.41278434e-01, -3.83513658e-15],\n",
       "        [-2.67261242e-01,  2.67261242e-01,  5.51537822e-15,\n",
       "          2.67261242e-01,  2.67261242e-01,  3.13343235e-15,\n",
       "          2.67261242e-01,  2.67261242e-01, -1.33918368e-15,\n",
       "          2.67261242e-01,  2.67261242e-01,  2.05087812e-17,\n",
       "         -2.67261242e-01,  2.67261242e-01,  2.67261242e-01,\n",
       "          2.41112451e-14,  2.67261242e-01,  2.67261242e-01,\n",
       "          6.25858357e-15, -2.67261242e-01],\n",
       "        [-2.87273876e-01,  2.09905864e-01, -1.33899429e-01,\n",
       "          3.07743773e-01,  9.09634217e-02,  2.41278434e-01,\n",
       "          2.67261242e-01, -4.59954419e-02,  3.00869286e-01,\n",
       "          1.73844344e-01, -1.73844344e-01, -3.00869286e-01,\n",
       "         -4.59954419e-02, -2.87273876e-01, -2.09905864e-01,\n",
       "         -1.33899429e-01, -3.07743773e-01, -9.09634217e-02,\n",
       "          2.41278434e-01,  2.67261242e-01],\n",
       "        [-3.00869286e-01,  1.33899429e-01, -2.41278434e-01,\n",
       "          2.41278434e-01, -1.33899429e-01,  3.00869286e-01,\n",
       "          2.91192272e-15, -3.00869286e-01,  1.33899429e-01,\n",
       "         -2.41278434e-01, -2.41278434e-01,  1.33899429e-01,\n",
       "          3.00869286e-01,  3.00869286e-01,  1.33899429e-01,\n",
       "          2.41278434e-01,  2.41278434e-01, -1.33899429e-01,\n",
       "         -3.00869286e-01, -4.66163718e-15],\n",
       "        [-3.07743773e-01,  4.59954419e-02, -3.00869286e-01,\n",
       "          9.09634217e-02, -2.87273876e-01,  1.33899429e-01,\n",
       "         -2.67261242e-01, -1.73844344e-01, -2.41278434e-01,\n",
       "         -2.09905864e-01,  2.09905864e-01,  2.41278434e-01,\n",
       "         -1.73844344e-01, -3.07743773e-01, -4.59954419e-02,\n",
       "         -3.00869286e-01, -9.09634217e-02,  2.87273876e-01,\n",
       "          1.33899429e-01, -2.67261242e-01],\n",
       "        [-3.07743773e-01, -4.59954419e-02, -3.00869286e-01,\n",
       "         -9.09634217e-02, -2.87273876e-01, -1.33899429e-01,\n",
       "         -2.67261242e-01,  1.73844344e-01, -2.41278434e-01,\n",
       "          2.09905864e-01,  2.09905864e-01, -2.41278434e-01,\n",
       "         -1.73844344e-01,  3.07743773e-01, -4.59954419e-02,\n",
       "          3.00869286e-01, -9.09634217e-02, -2.87273876e-01,\n",
       "          1.33899429e-01,  2.67261242e-01],\n",
       "        [-3.00869286e-01, -1.33899429e-01, -2.41278434e-01,\n",
       "         -2.41278434e-01, -1.33899429e-01, -3.00869286e-01,\n",
       "         -1.26595948e-15,  3.00869286e-01,  1.33899429e-01,\n",
       "          2.41278434e-01, -2.41278434e-01, -1.33899429e-01,\n",
       "          3.00869286e-01, -3.00869286e-01,  1.33899429e-01,\n",
       "         -2.41278434e-01,  2.41278434e-01,  1.33899429e-01,\n",
       "         -3.00869286e-01, -3.40992402e-15],\n",
       "        [-2.87273876e-01, -2.09905864e-01, -1.33899429e-01,\n",
       "         -3.07743773e-01,  9.09634217e-02, -2.41278434e-01,\n",
       "          2.67261242e-01,  4.59954419e-02,  3.00869286e-01,\n",
       "         -1.73844344e-01, -1.73844344e-01,  3.00869286e-01,\n",
       "         -4.59954419e-02,  2.87273876e-01, -2.09905864e-01,\n",
       "          1.33899429e-01, -3.07743773e-01,  9.09634217e-02,\n",
       "          2.41278434e-01, -2.67261242e-01],\n",
       "        [-2.67261242e-01, -2.67261242e-01, -6.73666309e-16,\n",
       "         -2.67261242e-01,  2.67261242e-01,  1.36788657e-15,\n",
       "          2.67261242e-01, -2.67261242e-01, -8.16581214e-16,\n",
       "         -2.67261242e-01,  2.67261242e-01, -7.56811284e-17,\n",
       "         -2.67261242e-01, -2.67261242e-01,  2.67261242e-01,\n",
       "          1.84378983e-14,  2.67261242e-01, -2.67261242e-01,\n",
       "         -5.63733180e-15,  2.67261242e-01],\n",
       "        [-2.41278434e-01, -3.00869286e-01,  1.33899429e-01,\n",
       "         -1.33899429e-01,  3.00869286e-01,  2.41278434e-01,\n",
       "          1.97476740e-15, -2.41278434e-01, -3.00869286e-01,\n",
       "          1.33899429e-01,  1.33899429e-01, -3.00869286e-01,\n",
       "          2.41278434e-01,  2.41278434e-01, -3.00869286e-01,\n",
       "         -1.33899429e-01, -1.33899429e-01,  3.00869286e-01,\n",
       "         -2.41278434e-01, -4.12656248e-15],\n",
       "        [-2.09905864e-01, -3.07743773e-01,  2.41278434e-01,\n",
       "          4.59954419e-02,  1.73844344e-01,  3.00869286e-01,\n",
       "         -2.67261242e-01,  9.09634217e-02, -1.33899429e-01,\n",
       "          2.87273876e-01, -2.87273876e-01,  1.33899429e-01,\n",
       "          9.09634217e-02, -2.09905864e-01,  3.07743773e-01,\n",
       "          2.41278434e-01, -4.59954419e-02, -1.73844344e-01,\n",
       "          3.00869286e-01, -2.67261242e-01],\n",
       "        [-1.73844344e-01, -2.87273876e-01,  3.00869286e-01,\n",
       "          2.09905864e-01, -4.59954419e-02,  1.33899429e-01,\n",
       "         -2.67261242e-01,  3.07743773e-01,  2.41278434e-01,\n",
       "         -9.09634217e-02, -9.09634217e-02,  2.41278434e-01,\n",
       "         -3.07743773e-01,  1.73844344e-01, -2.87273876e-01,\n",
       "         -3.00869286e-01,  2.09905864e-01, -4.59954419e-02,\n",
       "         -1.33899429e-01,  2.67261242e-01],\n",
       "        [-1.33899429e-01, -2.41278434e-01,  3.00869286e-01,\n",
       "          3.00869286e-01, -2.41278434e-01, -1.33899429e-01,\n",
       "         -1.65657225e-15,  1.33899429e-01,  2.41278434e-01,\n",
       "         -3.00869286e-01,  3.00869286e-01, -2.41278434e-01,\n",
       "          1.33899429e-01, -1.33899429e-01,  2.41278434e-01,\n",
       "          3.00869286e-01, -3.00869286e-01,  2.41278434e-01,\n",
       "         -1.33899429e-01, -1.71629184e-15],\n",
       "        [-9.09634217e-02, -1.73844344e-01,  2.41278434e-01,\n",
       "          2.87273876e-01, -3.07743773e-01, -3.00869286e-01,\n",
       "          2.67261242e-01, -2.09905864e-01, -1.33899429e-01,\n",
       "          4.59954419e-02,  4.59954419e-02, -1.33899429e-01,\n",
       "          2.09905864e-01,  9.09634217e-02, -1.73844344e-01,\n",
       "         -2.41278434e-01,  2.87273876e-01, -3.07743773e-01,\n",
       "          3.00869286e-01, -2.67261242e-01],\n",
       "        [-4.59954419e-02, -9.09634217e-02,  1.33899429e-01,\n",
       "          1.73844344e-01, -2.09905864e-01, -2.41278434e-01,\n",
       "          2.67261242e-01, -2.87273876e-01, -3.00869286e-01,\n",
       "          3.07743773e-01, -3.07743773e-01,  3.00869286e-01,\n",
       "         -2.87273876e-01, -4.59954419e-02,  9.09634217e-02,\n",
       "          1.33899429e-01, -1.73844344e-01,  2.09905864e-01,\n",
       "         -2.41278434e-01,  2.67261242e-01]]))"
      ]
     },
     "execution_count": 61,
     "metadata": {},
     "output_type": "execute_result"
    }
   ],
   "source": [
    "vec=3*ones(20)\n",
    "M=diag(vec)\n",
    "vect=-1*ones(19)\n",
    "N=diag(vect,1)\n",
    "O=diag(vect,-1)\n",
    "P=M+N+O\n",
    "eig(P)"
   ]
  },
  {
   "cell_type": "markdown",
   "metadata": {},
   "source": [
    "Pourquoi la matrice est inversible? Les valeurs propres sont elles réelles et strictement positives? "
   ]
  },
  {
   "cell_type": "markdown",
   "metadata": {},
   "source": [
    "Supposons la matrice A(20.20) diagonalisable elle possède donc 20 valeurs propres.\n",
    "   Prouvons que ces valeurs propres sont réelles. On définit les valeurs propres a priori complexes et on montrera qu'elles sont réelles.\n",
    "  On sait que $A x_{\\lambda} = \\lambda x_{\\lambda}$ où $x_{\\lambda}$ est le vecteur propre associé à la dite valeur propre $\\lambda$.\n",
    "   Soit $<x,y>$ le produit scalaire dans $\\mathbb{C}$ (produit hermitien) tel que $$<x,y> = \\sum x_{i} \\overline{y_{i}}$$ avec $\\overline{y_{i}}$ le conjugué de $y_{i}$. \n",
    "   On a alors que $$<A x_{\\lambda},x_{\\lambda}> = \\sum_{i=1}^{20}\\lambda x_{\\lambda_i}\\overline{x_{\\lambda_i}}.$$ \n",
    "   Or $\\lambda$ ne dépendant pas de la somme nous pouvons l'en sortir, i.e : \n",
    "   $$<A x_{\\lambda},x_{\\lambda}> = \\lambda \\sum_{i=1}^{20}x_{\\lambda_i}\\overline{x_{\\lambda_i}}=\\lambda\\|x_{\\lambda}\\|^2.$$ D'où $$<A x_{\\lambda},x_{\\lambda}> = \\lambda \\|x_{\\lambda}\\|^2.$$\n",
    "   Démonstration similaire dans l'autre sens : on a \n",
    "   $$<x_{\\lambda},A x_{\\lambda}> = \\sum_{i=1}^{20}x_{\\lambda_i} \\overline{\\lambda x_{\\lambda_i}}.$$ \n",
    "   Donc $$<x_{\\lambda},A x_{\\lambda}> = \\sum_{i=1}^{20}x_{\\lambda_i}\\overline{\\lambda}\\overline{x_{\\lambda_i}}$$ \n",
    "   On a alors que : $$<x_{\\lambda},A x_{\\lambda}> = \\overline{\\lambda} \\sum_{i=1}^{20}x_{\\lambda_i}\\overline{x_{\\lambda_i}}.$$\n",
    "   D'où $$<x_{\\lambda},A x_{\\lambda}> = \\overline{\\lambda} \\|x_{\\lambda}\\|^2.$$\n",
    "   Comme $A$ est symétrique à coefficient réel,\n",
    "   $$\n",
    "   <A x_{\\lambda},x_{\\lambda}>=< x_{\\lambda},A x_{\\lambda}>.\n",
    "   $$\n",
    "   Donc on a l'égalité $\\lambda\\|x_{\\lambda}\\|^2 = \\overline{\\lambda}\\|x_{\\lambda}\\|^2$ qui impose que $\\lambda = \\overline{\\lambda}$.  \n",
    "   \n",
    "   Les valeurs propres sont donc forcément réelles. CQFD\n",
    "\n",
    "   Prouvons maintenant que ces valeurs propres sont strictement positives, on pose $A x_{\\lambda}=\\lambda x_{\\lambda}$ avec $$x_{\\lambda} \\ne 0_{\\mathbb{R^{20}}}$$ par définition d'un vecteur propre. On note \n",
    "   $$x_{l} = max_{i\\in[0;20]_{\\mathbb{N}}} x_{i}.$$ \n",
    "   Quitte à changer $x_{\\lambda}$ en $-x_{\\lambda}$, on peut supposer que $x_{l}>0$.\n",
    "   \n",
    "   \n",
    "   d'où pour la ligne $l$ qui n'est ni à la dernière ligne ni à la première, \n",
    "   \n",
    "   on a l'égalité suivante, \n",
    "   $$3 x_{l}-x_{l-1}-x_{l+1} = \\lambda x_l.$$\n",
    "   Or, $2 x_{l}-x_{l-1}-x_{l+1}\\ge 0$, ainsi $0<x_l\\le \\lambda x_l$.\n",
    "   On conclut donc que\n",
    "   $\n",
    "   x_l(\\lambda -1)>0$ et donc que $\\lambda >1>0$.\n",
    "   \n",
    "   On note que si $l=0$ ou $l=20$, on a {\\sl a fortiuri} $0<x_l\\le \\lambda x_l$ et on conclut de même.\n",
    "   \n",
    "   On retiendra qu'une matrice symétrique à diagonale strictement dominante a nécessairement des valeurs propres réelles strictement positives. \n",
    "  "
   ]
  },
  {
   "cell_type": "markdown",
   "metadata": {},
   "source": [
    "## Exercices\n",
    "Dans les exercices qui suivent, la solution numérique proposée ne doit faire appel à aucune boucle, mais s'appuyer sur des produits matriciels ou scalaires entre tableaux de type array (du module numpy)\n",
    "\n",
    "1- Calculer\n",
    "$$\n",
    "\\sum_{i=1}^{49}(-u_{i-1}+2u_i-u_{i+1})u_i-f(u_i)u_i,\n",
    "$$\n",
    "où $U=(u_0,u_1,\\cdots,u_{50})$ est donné par\n",
    "$$\n",
    "u_i=\\sin(i)\\frac {i^2}{1+i^2},\n",
    "$$\n",
    "où $f$ est la fonction définie par\n",
    "$$\n",
    "f(x)=\\sin(x)\\cos(x^2).\n",
    "$$\n"
   ]
  },
  {
   "cell_type": "code",
   "execution_count": 27,
   "metadata": {},
   "outputs": [
    {
     "name": "stdout",
     "output_type": "stream",
     "text": [
      "6.779712156147054\n"
     ]
    }
   ],
   "source": [
    "def u(x):\n",
    "    return sin(x)*(x**2/(1+x**2))\n",
    "def f(x):\n",
    "    return sin(x)*cos(x**2)\n",
    "\n",
    "a=arange(0,49)\n",
    "b=arange(1,50)\n",
    "c=arange(2,51)\n",
    "\n",
    "d=(-u(a)+2*u(b)-u(c))*u(b)\n",
    "e=f(u(b))*u(b)\n",
    "\n",
    "print(sum(d-e))"
   ]
  },
  {
   "cell_type": "markdown",
   "metadata": {},
   "source": [
    "2- On se donne $U=(u_0,u_1,\\cdots,u_{100})$, $V=(v,v_1,\\cdots,v_{100})$ avec,\n",
    "$$\n",
    "u_i=\\sin(i)\\frac {i^2}{1+i^2},~v_i=cos(i)i.\n",
    "$$\n",
    "Calculer\n",
    "\n",
    "1)\n",
    "$$\n",
    "\\sum_{i=0,~i\\text{ pair}}^{100}u_iv_{100-i},\n",
    "$$\n",
    "\n",
    "2)\n",
    "$$\n",
    "\\sum_{i=0,~i\\text{ impair}}^{97}u_iv_{i+3}.\n",
    "$$"
   ]
  },
  {
   "cell_type": "code",
   "execution_count": 24,
   "metadata": {},
   "outputs": [
    {
     "name": "stdout",
     "output_type": "stream",
     "text": [
      "1)\n",
      "-626.441151190269\n"
     ]
    }
   ],
   "source": [
    "def v(x):\n",
    "    return cos(x)*x\n",
    "\n",
    "a1=arange(0,101,2)\n",
    "a2=100-a1\n",
    "a3=u(a1)@v(a2)\n",
    "print(\"1)\")\n",
    "print(a3)"
   ]
  },
  {
   "cell_type": "code",
   "execution_count": 25,
   "metadata": {},
   "outputs": [
    {
     "name": "stdout",
     "output_type": "stream",
     "text": [
      "2)\n",
      "-166.2377910274027\n"
     ]
    }
   ],
   "source": [
    "b1=arange(1,98,2)\n",
    "b2=b1+3\n",
    "b3=u(b1)@v(b2)\n",
    "print(\"2)\")\n",
    "print(b3)"
   ]
  },
  {
   "cell_type": "code",
   "execution_count": null,
   "metadata": {},
   "outputs": [],
   "source": []
  }
 ],
 "metadata": {
  "kernelspec": {
   "display_name": "Python 3",
   "language": "python",
   "name": "python3"
  },
  "language_info": {
   "codemirror_mode": {
    "name": "ipython",
    "version": 3
   },
   "file_extension": ".py",
   "mimetype": "text/x-python",
   "name": "python",
   "nbconvert_exporter": "python",
   "pygments_lexer": "ipython3",
   "version": "3.6.4"
  },
  "toc": {
   "base_numbering": 1,
   "nav_menu": {},
   "number_sections": true,
   "sideBar": true,
   "skip_h1_title": false,
   "title_cell": "Table of Contents",
   "title_sidebar": "Contents",
   "toc_cell": false,
   "toc_position": {},
   "toc_section_display": true,
   "toc_window_display": false
  }
 },
 "nbformat": 4,
 "nbformat_minor": 2
}
