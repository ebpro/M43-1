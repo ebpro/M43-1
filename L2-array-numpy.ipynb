{
 "cells": [
  {
   "cell_type": "code",
   "execution_count": 2,
   "metadata": {},
   "outputs": [
    {
     "data": {
      "application/javascript": [
       "IPython.notebook.set_autosave_interval(300000)"
      ]
     },
     "metadata": {},
     "output_type": "display_data"
    },
    {
     "name": "stdout",
     "output_type": "stream",
     "text": [
      "Autosaving every 300 seconds\n"
     ]
    }
   ],
   "source": [
    "from IPython.display import display, Latex\n",
    "from IPython.core.display import HTML\n",
    "%reset -f\n",
    "%matplotlib inline\n",
    "%autosave 300\n",
    "from matplotlib.pylab import *"
   ]
  },
  {
   "cell_type": "markdown",
   "metadata": {},
   "source": [
    "# Manipulation de base sur les tableaux\n",
    "En important la librairie matplotlib, la librairie numpy est également chargée. Elle permet la manipulation de tableaux et contient des opérations empruntées aux opérations matricielles mathématiques.\n",
    "\n",
    "## Définition, modification, opérations\n",
    "\n",
    "On définit des tableaux comme suit, soit par remplissage de tous les coefficients, soit par des tableaux de 1 (ones) ou 0 (zeros)."
   ]
  },
  {
   "cell_type": "code",
   "execution_count": 3,
   "metadata": {},
   "outputs": [
    {
     "name": "stdout",
     "output_type": "stream",
     "text": [
      "a= [[1 2]\n",
      " [3 4]]\n",
      "b= [[5. 5.]\n",
      " [5. 5.]]\n",
      "a+b= [[6. 7.]\n",
      " [8. 9.]]\n"
     ]
    }
   ],
   "source": [
    "a=array([[1,2],[3,4]])\n",
    "b=5*ones((2,2))\n",
    "print('a=',a)\n",
    "print('b=',b)\n",
    "print('a+b=',a+b)"
   ]
  },
  {
   "cell_type": "markdown",
   "metadata": {},
   "source": [
    "On profite du tableau \"zeros\" pour intialiser un tableau à la taille souhaitée et modifier les coefficients en position ligne colonne de notre choix. Attention, les indices démarrent à 0 et non 1."
   ]
  },
  {
   "cell_type": "code",
   "execution_count": 4,
   "metadata": {},
   "outputs": [
    {
     "name": "stdout",
     "output_type": "stream",
     "text": [
      "[[0. 0. 0.]\n",
      " [0. 0. 0.]\n",
      " [0. 2. 0.]]\n"
     ]
    }
   ],
   "source": [
    "c=zeros((3,3))\n",
    "c[2,1]=2\n",
    "print(c)"
   ]
  },
  {
   "cell_type": "markdown",
   "metadata": {},
   "source": [
    "On peut également affecter un sous-tableau d'un tableau."
   ]
  },
  {
   "cell_type": "code",
   "execution_count": 5,
   "metadata": {},
   "outputs": [
    {
     "name": "stdout",
     "output_type": "stream",
     "text": [
      "[[1. 2. 0.]\n",
      " [3. 4. 0.]\n",
      " [0. 0. 0.]]\n"
     ]
    }
   ],
   "source": [
    "d=zeros((3,3))\n",
    "d[0:2,0:2]=a\n",
    "print(d)"
   ]
  },
  {
   "cell_type": "markdown",
   "metadata": {},
   "source": [
    "On peut effectuer des produit composantes par composantes:"
   ]
  },
  {
   "cell_type": "code",
   "execution_count": 6,
   "metadata": {},
   "outputs": [
    {
     "name": "stdout",
     "output_type": "stream",
     "text": [
      "[[ 1.  4.  0.]\n",
      " [ 9. 16.  0.]\n",
      " [ 0.  0.  0.]]\n"
     ]
    }
   ],
   "source": [
    "print(d*d)"
   ]
  },
  {
   "cell_type": "markdown",
   "metadata": {},
   "source": [
    "La commande \"arange\" permet de créer sous forme de vecteur numpy l'équivalent de l'itérateur \"range\". Il est possible de modifier la forme du tableau pour le transformer (reshape) en un tableau du même nombre d'éléments mais avec un nombre de ligne et colonne différent. Notez bien l'ordre dans lequel sont rangés les éléments."
   ]
  },
  {
   "cell_type": "code",
   "execution_count": 7,
   "metadata": {},
   "outputs": [
    {
     "name": "stdout",
     "output_type": "stream",
     "text": [
      "[ 3  5  7  9 11 13 15 17 19]\n",
      "matrie 3x3 : \n",
      "[[ 3  5  7]\n",
      " [ 9 11 13]\n",
      " [15 17 19]]\n",
      "mis en une unique colonne : \n",
      "[[ 3]\n",
      " [ 5]\n",
      " [ 7]\n",
      " [ 9]\n",
      " [11]\n",
      " [13]\n",
      " [15]\n",
      " [17]\n",
      " [19]]\n",
      "mis en une unique ligne : \n",
      "[[ 3  5  7  9 11 13 15 17 19]]\n",
      "reshape après transposition, l'ordre est bousculé :\n",
      "[[ 3  9 15  5 11 17  7 13 19]]\n"
     ]
    }
   ],
   "source": [
    "vec=arange(3,21,2)\n",
    "print(vec)\n",
    "mat3x3=vec.reshape(3,3)\n",
    "print(\"matrie 3x3 : \")\n",
    "print(mat3x3)\n",
    "print(\"mis en une unique colonne : \")\n",
    "print(mat3x3.reshape(9,1))\n",
    "print(\"mis en une unique ligne : \")\n",
    "print(mat3x3.reshape(1,9))\n",
    "print(\"reshape après transposition, l'ordre est bousculé :\")\n",
    "print(mat3x3.T.reshape(1,9))"
   ]
  },
  {
   "cell_type": "markdown",
   "metadata": {},
   "source": [
    "On peut utiliser la commande \"diag\" afin de positionner en diagonale, un vecteur ou un sous-tableau dans un tableau dont on précise la taille. Les autres coefficients non précisés etant nuls. On choisit de combien on décale la diagonale par rapport à la diagonale principale."
   ]
  },
  {
   "cell_type": "code",
   "execution_count": 8,
   "metadata": {},
   "outputs": [
    {
     "name": "stdout",
     "output_type": "stream",
     "text": [
      "[[0. 1. 0. 0. 0. 0. 0. 0. 0. 0.]\n",
      " [1. 0. 2. 0. 0. 0. 0. 0. 0. 0.]\n",
      " [0. 1. 0. 3. 0. 0. 0. 0. 0. 0.]\n",
      " [0. 0. 1. 0. 4. 0. 0. 0. 0. 0.]\n",
      " [0. 0. 0. 1. 0. 5. 0. 0. 0. 0.]\n",
      " [0. 0. 0. 0. 1. 0. 6. 0. 0. 0.]\n",
      " [0. 0. 0. 0. 0. 1. 0. 7. 0. 0.]\n",
      " [0. 0. 0. 0. 0. 0. 1. 0. 8. 0.]\n",
      " [0. 0. 0. 0. 0. 0. 0. 1. 0. 9.]\n",
      " [0. 0. 0. 0. 0. 0. 0. 0. 1. 0.]]\n"
     ]
    }
   ],
   "source": [
    "vec=arange(1,10)\n",
    "M=diag(vec,1)+diag(ones(9),-1)\n",
    "print(M)"
   ]
  },
  {
   "cell_type": "markdown",
   "metadata": {},
   "source": [
    "## Produit matriciel\n",
    "La multiplication matricielle utilise la fonction dot:"
   ]
  },
  {
   "cell_type": "code",
   "execution_count": 9,
   "metadata": {},
   "outputs": [
    {
     "name": "stdout",
     "output_type": "stream",
     "text": [
      "[[ 7. 10.  0.]\n",
      " [15. 22.  0.]\n",
      " [ 0.  0.  0.]]\n",
      "une variante d'écriture pour le même résultat:\n",
      "[[ 7. 10.  0.]\n",
      " [15. 22.  0.]\n",
      " [ 0.  0.  0.]]\n"
     ]
    }
   ],
   "source": [
    "print(dot(d,d))\n",
    "print(\"une variante d'écriture pour le même résultat:\")\n",
    "print(d.dot(d))\n"
   ]
  },
  {
   "cell_type": "markdown",
   "metadata": {},
   "source": [
    "On peut également utiliser l'opérateur \"@\" qui signifie produit matriciel entre deux tableaux de taille compatible:"
   ]
  },
  {
   "cell_type": "code",
   "execution_count": 10,
   "metadata": {},
   "outputs": [
    {
     "name": "stdout",
     "output_type": "stream",
     "text": [
      "[[ 7. 10.  0.]\n",
      " [15. 22.  0.]\n",
      " [ 0.  0.  0.]]\n"
     ]
    }
   ],
   "source": [
    "print(d@d)"
   ]
  },
  {
   "cell_type": "markdown",
   "metadata": {},
   "source": [
    "Le produit scalaire de deux vecteurs n'est autre que le produit matriciel à une transposition près (produit d'un vecteur ligne par un vecteur colonne). \n",
    "\n",
    "Le produit matrice vecteur n'est rien d'autre qu'un produit matriciel. Exemples:"
   ]
  },
  {
   "cell_type": "code",
   "execution_count": 13,
   "metadata": {},
   "outputs": [
    {
     "name": "stdout",
     "output_type": "stream",
     "text": [
      "vecteur colonne ou tableau 3 lignes 1 colonne\n",
      "[[1]\n",
      " [2]\n",
      " [3]]\n",
      "son transposé: [[1 2 3]]\n",
      "2 produits possibles:\n",
      "[[1 2 3]\n",
      " [2 4 6]\n",
      " [3 6 9]]\n",
      "le deuxième\n",
      "[[14]]\n",
      "produit matrice vecteur:\n",
      "[[ 5.]\n",
      " [11.]\n",
      " [ 0.]]\n"
     ]
    }
   ],
   "source": [
    "vec=array([[1],[2],[3]])\n",
    "print(\"vecteur colonne ou tableau 3 lignes 1 colonne\")\n",
    "print(vec)\n",
    "vectrans=vec.T\n",
    "print(\"son transposé:\",vectrans)\n",
    "print(\"2 produits possibles:\")\n",
    "print(vec@vectrans)\n",
    "print(\"le deuxième\")\n",
    "print(vectrans@vec)\n",
    "print(\"produit matrice vecteur:\")\n",
    "print(d@vec)\n",
    "\n"
   ]
  },
  {
   "cell_type": "markdown",
   "metadata": {},
   "source": [
    "Attention aux tableaux qui ne sont qu'une conversion d'une liste de nombres et non une liste de liste de nombres. Dans ce cas, la notion de ligne ou colonne est ambigue. La transposée n'agit pas, le produit dot ou @ a un sens de produit scalaire."
   ]
  },
  {
   "cell_type": "code",
   "execution_count": 14,
   "metadata": {},
   "outputs": [
    {
     "name": "stdout",
     "output_type": "stream",
     "text": [
      "14 14\n",
      "a= [1 2 3]\n",
      "a.T= [1 2 3]\n"
     ]
    }
   ],
   "source": [
    "a=array([1,2,3])\n",
    "print(a.dot(a),a@a)\n",
    "print(\"a=\",a)\n",
    "print(\"a.T=\",a.T)"
   ]
  },
  {
   "cell_type": "markdown",
   "metadata": {},
   "source": [
    "## Exercices\n",
    "Coder et afficher les calculs suivants:\n",
    "$$\n",
    "\\left (\\matrix{1&2&1\\\\\n",
    "2&1&1\\\\\n",
    "1&1&1}\\right)\\left (\\matrix{1\\\\\n",
    "2\\\\\n",
    "1}\\right)\n",
    "$$\n",
    "$$\n",
    "\\left (\\matrix{\n",
    "1&0&0&0&0&0&0\\\\\n",
    "0&1&0&0&0&0&0\\\\\n",
    "0&0&2&2&1&0&0\\\\\n",
    "0&0&2&2&1&0&0\\\\\n",
    "0&0&1&1&2&0&0\\\\\n",
    "0&0&0&0&0&1&0\\\\\n",
    "0&0&0&0&0&0&1\\\\\n",
    "}\\right)+\n",
    "\\left (\\matrix{\n",
    "1&0&0&0&0&0&0\\\\\n",
    "0&1&0&0&0&0&0\\\\\n",
    "0&0&1&0&0&0&0\\\\\n",
    "0&0&0&1&0&0&0\\\\\n",
    "0&0&0&0&1&0&0\\\\\n",
    "0&0&0&0&0&1&0\\\\\n",
    "0&0&0&0&0&0&1\\\\\n",
    "}\\right)+\n",
    "\\left (\\matrix{\n",
    "0&0&0&0&0&0&1\\\\\n",
    "0&0&0&0&0&1&0\\\\\n",
    "0&0&0&0&1&0&0\\\\\n",
    "0&0&0&1&0&0&0\\\\\n",
    "0&0&1&0&0&0&0\\\\\n",
    "0&1&0&0&0&0&0\\\\\n",
    "1&0&0&0&0&0&0\\\\\n",
    "}\\right)\n",
    "$$"
   ]
  },
  {
   "cell_type": "markdown",
   "metadata": {},
   "source": [
    "Construire et afficher la matrice de taille 9x9 qui ne contient que des zéros sauf des $-4$ sur la deuxième sous-diagonale."
   ]
  },
  {
   "cell_type": "code",
   "execution_count": null,
   "metadata": {},
   "outputs": [],
   "source": []
  },
  {
   "cell_type": "markdown",
   "metadata": {},
   "source": [
    "Calculer la somme des carrés des 60 premiers entiers non nuls à l'aide d'un vecteur et de la commande \"dot\". Calculer la somme de ces entiers toujours à l'aide de vecteurs et de \"dot\"."
   ]
  },
  {
   "cell_type": "code",
   "execution_count": null,
   "metadata": {},
   "outputs": [],
   "source": []
  },
  {
   "cell_type": "markdown",
   "metadata": {},
   "source": [
    "## Factorisation PLU\n",
    "On peut factoriser, sous quelques hypothèses, une matrice  $A$ sous la forme $A=PLU$ où $L$ (lower) est une matrice triangulaire inférieure avec des $1$ sur la diagonale, $U$ (upper) une matrice triangulaire supérieure et $P$ une matrice de permutation. Cette factorisation correspond aux opérations de transformation de la matrice par la méthode de Gauss avec pivot.  Le but étant de résoudre alors un système linéaire dont $A$ est la matrice qu'on supposera alors carrée. L'hypothèse $A$ inversible suffit pour assurer cette factorisation. La méthode de Gauss (sans pivot, $P=Id$) s'applique  dès lors que toutes les sous-matrices de $A$ sont inversibles."
   ]
  },
  {
   "cell_type": "code",
   "execution_count": 16,
   "metadata": {},
   "outputs": [
    {
     "name": "stdout",
     "output_type": "stream",
     "text": [
      "[[0. 1. 0.]\n",
      " [0. 0. 1.]\n",
      " [1. 0. 0.]] [[1.         0.         0.        ]\n",
      " [0.14285714 1.         0.        ]\n",
      " [0.57142857 0.5        1.        ]] [[ 7.          8.         10.        ]\n",
      " [ 0.          0.85714286  1.57142857]\n",
      " [ 0.          0.         -0.5       ]]\n",
      "verification [[ 1.  2.  3.]\n",
      " [ 4.  5.  6.]\n",
      " [ 7.  8. 10.]]\n"
     ]
    }
   ],
   "source": [
    "from scipy import linalg\n",
    "#U=triu([[1,2,3],[4,5,6],[7,8,9]])\n",
    "#L=tril([[1,2,3],[4,5,6],[7,8,9]])\n",
    "A=array([[1,2,3],[4,5,6],[7,8,10]])\n",
    "P,L,U=linalg.lu(A)\n",
    "print(P,L,U)\n",
    "print(\"verification\",P.dot(L.dot(U)))"
   ]
  },
  {
   "cell_type": "markdown",
   "metadata": {},
   "source": [
    "## Exercice\n",
    "En n'utilisant que la transposition et un algorithme de résolution de système triangulaire (inférieur ou supérieur) que vous coderez avec une seule boucle, résoudre le système linéaire $Ax=b$ à partir de $P$, $L$, $U$ de la factorisation $A=PLU$. Pour vérifier votre calcul, cet outil est déjà codé dans scipy avec la commande suivante:"
   ]
  },
  {
   "cell_type": "code",
   "execution_count": 17,
   "metadata": {},
   "outputs": [
    {
     "name": "stdout",
     "output_type": "stream",
     "text": [
      "x est le vecteur : \n",
      "[[-1.00000000e+00]\n",
      " [ 1.00000000e+00]\n",
      " [ 3.33066907e-16]]\n",
      "on vérifie Ax=b : \n",
      "[[1.]\n",
      " [1.]\n",
      " [1.]]\n"
     ]
    }
   ],
   "source": [
    "#Forme compactee de la factorisation PLU\n",
    "lu=linalg.lu_factor(A)\n",
    "#appel de la resolution du système depuis la factorisation lu\n",
    "b=ones((3,1))\n",
    "x=linalg.lu_solve(lu,b)\n",
    "print(\"x est le vecteur : \")\n",
    "print(x)\n",
    "print(\"on vérifie Ax=b : \")\n",
    "print(A@x)\n",
    "\n",
    "# ECRIRE VOTRE PROPRE ALGO QUI TROUVE x depuis P,L,U,b"
   ]
  },
  {
   "cell_type": "code",
   "execution_count": 65,
   "metadata": {},
   "outputs": [
    {
     "name": "stdout",
     "output_type": "stream",
     "text": [
      "[[-1.00000000e+00]\n",
      " [ 1.00000000e+00]\n",
      " [ 3.33066907e-16]]\n"
     ]
    }
   ],
   "source": [
    "#sans savoir ce que scipy choisit comme solveur, \n",
    "#il existe la commande de résolution de systeme linéaire\n",
    "print(linalg.solve(A,b))"
   ]
  },
  {
   "cell_type": "markdown",
   "metadata": {},
   "source": [
    "## Valeurs propres et vecteurs propres\n",
    "La commande \"eig\" permet de disposer des valeurs propres et des vecteurs propres associés. La commande \"inv\" permet d'inverser la matrice. On ne s'en sert pas pour résoudre un système linéaire, c'est beaucoup trop cher en calcul! \n"
   ]
  },
  {
   "cell_type": "code",
   "execution_count": 66,
   "metadata": {},
   "outputs": [
    {
     "data": {
      "text/plain": [
       "(array([16.70749332, -0.90574018,  0.19824686]),\n",
       " array([[-0.22351336, -0.86584578,  0.27829649],\n",
       "        [-0.50394563,  0.0856512 , -0.8318468 ],\n",
       "        [-0.83431444,  0.4929249 ,  0.48018951]]))"
      ]
     },
     "execution_count": 66,
     "metadata": {},
     "output_type": "execute_result"
    }
   ],
   "source": [
    "eig(A)"
   ]
  },
  {
   "cell_type": "code",
   "execution_count": 68,
   "metadata": {},
   "outputs": [
    {
     "data": {
      "text/plain": [
       "array([[-0.66666667, -1.33333333,  1.        ],\n",
       "       [-0.66666667,  3.66666667, -2.        ],\n",
       "       [ 1.        , -2.        ,  1.        ]])"
      ]
     },
     "execution_count": 68,
     "metadata": {},
     "output_type": "execute_result"
    }
   ],
   "source": [
    "inv(A)"
   ]
  },
  {
   "cell_type": "markdown",
   "metadata": {},
   "source": [
    "## Exercice\n",
    "\n",
    "Calculer les valeurs propres de la matrice $A$ de taille $(20,20)$ constituée de $3$ sur la diagonale principale, de $-1$ sur la diagonale supérieure et inférieure.\n",
    "\n",
    "Pourquoi la matrice est inversible? Les valeurs propres sont elles réelles et strictement positives? "
   ]
  },
  {
   "cell_type": "code",
   "execution_count": null,
   "metadata": {},
   "outputs": [],
   "source": []
  },
  {
   "cell_type": "markdown",
   "metadata": {},
   "source": [
    "Indication pour la preuve: commencer par vérifier que si $x$ est vecteur propre de $A$ pour la valeur propre $0$, les valeurs extrémales des composantes de $x$ sont nécessairement nulles.\n",
    "\n",
    ".... Rédigez!"
   ]
  },
  {
   "cell_type": "markdown",
   "metadata": {},
   "source": [
    "## Exercices\n",
    "Dans les exercices qui suivent, la solution numérique proposée ne doit faire appel à aucune boucle, mais s'appuyer sur des produits matriciels ou scalaires entre tableaux de type array (du module numpy)\n",
    "\n",
    "1- Calculer\n",
    "$$\n",
    "\\sum_{i=1}^{49}(-u_{i-1}+2u_i-u_{i+1})u_i-f(u_i)u_i,\n",
    "$$\n",
    "où $U=(u_0,u_1,\\cdots,u_{50})$ est donné par\n",
    "$$\n",
    "u_i=\\sin(i)\\frac {i^2}{1+i^2},\n",
    "$$\n",
    "où $f$ est la fonction définie par\n",
    "$$\n",
    "f(x)=\\sin(x)\\cos(x^2).\n",
    "$$\n",
    "2- On se donne $U=(u_0,u_1,\\cdots,u_{100})$, $V=(v,v_1,\\cdots,v_{100})$ avec,\n",
    "$$\n",
    "u_i=\\sin(i)\\frac {i^2}{1+i^2},~v_i=cos(i)i.\n",
    "$$\n",
    "Calculer\n",
    "$$\n",
    "\\sum_{i=0,~i\\text{ pair}}^{100}u_iv_{100-i},\n",
    "$$\n",
    "$$\n",
    "\\sum_{i=0,~i\\text{ impair}}^{97}u_iv_{i+3}.\n",
    "$$"
   ]
  },
  {
   "cell_type": "code",
   "execution_count": null,
   "metadata": {},
   "outputs": [],
   "source": []
  }
 ],
 "metadata": {
  "kernelspec": {
   "display_name": "Python 3",
   "language": "python",
   "name": "python3"
  },
  "language_info": {
   "codemirror_mode": {
    "name": "ipython",
    "version": 3
   },
   "file_extension": ".py",
   "mimetype": "text/x-python",
   "name": "python",
   "nbconvert_exporter": "python",
   "pygments_lexer": "ipython3",
   "version": "3.7.1"
  }
 },
 "nbformat": 4,
 "nbformat_minor": 2
}
